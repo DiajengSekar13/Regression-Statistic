{
 "cells": [
  {
   "cell_type": "markdown",
   "id": "9addaa72",
   "metadata": {},
   "source": [
    "# UTS"
   ]
  },
  {
   "cell_type": "markdown",
   "id": "d32d49b9",
   "metadata": {},
   "source": [
    "\n",
    "2. Diberikan data pada Tabel 1. Buatlah program (scratch) untuk melakukan pengujian \n",
    "Hipotesis antar tingkat pendidikan dengan 𝛼 = 0.05. (Skor 15)\n"
   ]
  },
  {
   "cell_type": "code",
   "execution_count": 25,
   "id": "c205d696",
   "metadata": {},
   "outputs": [],
   "source": [
    "import numpy as np\n",
    "from scipy.stats import ttest_ind"
   ]
  },
  {
   "cell_type": "code",
   "execution_count": 35,
   "id": "abc56712",
   "metadata": {},
   "outputs": [
    {
     "name": "stdout",
     "output_type": "stream",
     "text": [
      "Mean dari data sd adalah : 14.0\n",
      "Standart deviasi dari data sd adalah 8.276472678623424\n"
     ]
    }
   ],
   "source": [
    "peforma1 = [7,9,12,28]\n",
    "\n",
    "mean = np.mean(peforma1)\n",
    "print(\"Mean dari data sd adalah : \" + str(mean))\n",
    "\n",
    "std = np.std(peforma1)\n",
    "print(\"Standart deviasi dari data sd adalah \" + str(std))\n"
   ]
  },
  {
   "cell_type": "code",
   "execution_count": 36,
   "id": "340eed97",
   "metadata": {},
   "outputs": [
    {
     "name": "stdout",
     "output_type": "stream",
     "text": [
      "Mean dari data smp adalah : 20.5\n",
      "Standart deviasi dari data smp adalah 12.031209415515965\n"
     ]
    }
   ],
   "source": [
    "peforma2 = [13,11,17,41]\n",
    "\n",
    "mean = np.mean(peforma2)\n",
    "print(\"Mean dari data smp adalah : \" + str(mean))\n",
    "\n",
    "std = np.std(peforma2)\n",
    "print(\"Standart deviasi dari data smp adalah \" + str(std))\n"
   ]
  },
  {
   "cell_type": "code",
   "execution_count": 37,
   "id": "f4d89012",
   "metadata": {},
   "outputs": [
    {
     "name": "stdout",
     "output_type": "stream",
     "text": [
      "Mean dari data sma adalah : 28.5\n",
      "Standart deviasi dari data sma adalah 16.5\n"
     ]
    }
   ],
   "source": [
    "peforma3 = [18,21,18,57]\n",
    "\n",
    "mean = np.mean(peforma3)\n",
    "print(\"Mean dari data sma adalah : \" + str(mean))\n",
    "\n",
    "std = np.std(peforma3)\n",
    "print(\"Standart deviasi dari data sma adalah \" + str(std))\n"
   ]
  },
  {
   "cell_type": "code",
   "execution_count": 38,
   "id": "3241b06c",
   "metadata": {
    "scrolled": true
   },
   "outputs": [
    {
     "name": "stdout",
     "output_type": "stream",
     "text": [
      "Mean dari data sarjana adalah : 25.0\n",
      "Standart deviasi dari data sarjana adalah 14.679918255903198\n"
     ]
    }
   ],
   "source": [
    "peforma4 = [21,15,14,50]\n",
    "\n",
    "mean = np.mean(peforma4)\n",
    "print(\"Mean dari data sarjana adalah : \" + str(mean))\n",
    "\n",
    "std = np.std(peforma4)\n",
    "print(\"Standart deviasi dari data sarjana adalah \" + str(std))\n"
   ]
  },
  {
   "cell_type": "markdown",
   "id": "efa0984a",
   "metadata": {},
   "source": [
    "Menguji Peforma Kerja tiap jenjang pendidikan"
   ]
  },
  {
   "cell_type": "code",
   "execution_count": 33,
   "id": "a954bd1c",
   "metadata": {},
   "outputs": [
    {
     "name": "stdout",
     "output_type": "stream",
     "text": [
      "=======================================================================\n",
      "Hipotesis antara SD dan SMP\n",
      "t=-0.771, p=0.470\n",
      "Gagal Tolak H0, maka tidak ada perbedaan signifikan dalam performa kerja antara SD dan SMP.\n",
      "=======================================================================\n",
      "Hipotesis antara SD dan SMA\n",
      "t=-1.361, p=0.223\n",
      "Gagal Tolak H0, maka tidak ada perbedaan signifikan dalam performa kerja antara SD dan SMA.\n",
      "=======================================================================\n",
      "Hipotesis antara SD dan Sarjana\n",
      "t=-1.131, p=0.301\n",
      "Gagal Tolak H0, maka tidak ada perbedaan signifikan dalam performa kerja antara SD dan Sarjana.\n",
      "=======================================================================\n",
      "Hipotesis antara SMP dan SMA\n",
      "t=-0.679, p=0.523\n",
      "Gagal Tolak H0, maka tidak ada perbedaan signifikan dalam performa kerja antara SMP dan SMA.\n",
      "=======================================================================\n",
      "Hipotesis antara SMP dan Sarjana\n",
      "t=-0.411, p=0.696\n",
      "Gagal Tolak H0, maka tidak ada perbedaan signifikan dalam performa kerja antara SMP dan Sarjana.\n",
      "=======================================================================\n",
      "Hipotesis antara SMA dan Sarjana\n",
      "t=0.274, p=0.793\n",
      "Gagal Tolak H0, maka tidak ada perbedaan signifikan dalam performa kerja antara SMA dan Sarjana.\n"
     ]
    }
   ],
   "source": [
    "# Data Tingkat Pendidikan dan Performa Kerja\n",
    "tingkat_pendidikan = [\"SD\", \"SMP\", \"SMA\", \"Sarjana\"]\n",
    "performa_kerja = [\n",
    "    [7, 9, 12, 28],\n",
    "    [13, 11, 17, 41],\n",
    "    [18, 21, 18, 57],\n",
    "    [21, 15, 14, 50]\n",
    "]\n",
    "\n",
    "# Pengujian Hipotesis antar tingkat pendidikan\n",
    "alpha = 0.05\n",
    "\n",
    "for i in range(len(tingkat_pendidikan)):\n",
    "    for j in range(i+1, len(tingkat_pendidikan)):\n",
    "        group1 = performa_kerja[i]\n",
    "        group2 = performa_kerja[j]\n",
    "        t_stat, p_value = ttest_ind(group1, group2) # Fungsi t_test merupakan fungsi yang perlu didefinisikan terlebih dahulu\n",
    "        \n",
    "        print('=======================================================================')\n",
    "        print('Hipotesis antara ' + tingkat_pendidikan[i] + ' dan ' + tingkat_pendidikan[j])\n",
    "        print('t=%.3f, p=%.3f' % (t_stat, p_value))\n",
    "        \n",
    "        # Interpretasi berdasarkan p-value\n",
    "        if p_value < alpha:\n",
    "            print('Tolak H0, maka performa kerja antara ' + tingkat_pendidikan[i] + ' dan ' + tingkat_pendidikan[j] + ' berbeda signifikan.')\n",
    "        else:\n",
    "            print('Gagal Tolak H0, maka tidak ada perbedaan signifikan dalam performa kerja antara ' + tingkat_pendidikan[i] + ' dan ' + tingkat_pendidikan[j] + '.')\n"
   ]
  },
  {
   "cell_type": "markdown",
   "id": "95bf2bcb",
   "metadata": {},
   "source": [
    "3. Buatlah sebuah program untuk menghitung parameter pada Regresi, yaitu 𝛽0 dan 𝛽𝑘. Lalu \n",
    "terapkan pada data yang tersaji di Tabel 2"
   ]
  },
  {
   "cell_type": "code",
   "execution_count": 45,
   "id": "8fcd34ca",
   "metadata": {},
   "outputs": [
    {
     "name": "stdout",
     "output_type": "stream",
     "text": [
      "Parameter Regresi:\n",
      "𝛽0  = -4.528571428571421\n",
      "𝛽𝑘 = 2.553571428571428\n"
     ]
    }
   ],
   "source": [
    "import numpy as np\n",
    "import statsmodels.api as sm\n",
    "\n",
    "X = np.array([4, 4, 7, 7, 8, 9, 10, 10, 10, 11]).reshape(-1, 1)\n",
    "Y = np.array([2, 10, 4, 22, 16, 10, 18, 26, 34, 17])\n",
    "\n",
    "X = sm.add_constant(X)\n",
    "\n",
    "model = sm.OLS(Y, X).fit()\n",
    "beta0 = model.params[0]\n",
    "betak = model.params[1]\n",
    "\n",
    "print('Parameter Regresi:')\n",
    "print('𝛽0  =', beta0)\n",
    "print('𝛽𝑘 =', betak)"
   ]
  },
  {
   "cell_type": "markdown",
   "id": "28c2070a",
   "metadata": {},
   "source": [
    "6. Lakukan bootstrap mean dan varians pada data Y yang tersaji di Tabel 2! (Skor 20)"
   ]
  },
  {
   "cell_type": "code",
   "execution_count": 72,
   "id": "f3e5137d",
   "metadata": {
    "scrolled": false
   },
   "outputs": [
    {
     "name": "stdout",
     "output_type": "stream",
     "text": [
      "Hasil Bootstrap Mean Y:\n",
      "Mean Data Asli:  15.9\n",
      "Mean Bootstrap:  15.8761\n",
      "\n",
      "Hasil Bootstrap Varians Y:\n",
      "Varians Data Asli:  87.69000000000001\n",
      "Varians Bootstrap:  78.59427000000001\n"
     ]
    }
   ],
   "source": [
    "import numpy as np\n",
    "data_Y = np.array([2, 10, 4, 22, 16, 10, 18, 26, 34, 17])\n",
    "\n",
    "n_bootstrap = 1000\n",
    "\n",
    "mean_bootstrap = []\n",
    "var_bootstrap = []\n",
    "\n",
    "for i in range(n_bootstrap):\n",
    "    bootstrap_sample = np.random.choice(data_Y, size=len(data_Y), replace=True)\n",
    "    mean_bootstrap.append(np.mean(bootstrap_sample))\n",
    "    var_bootstrap.append(np.var(bootstrap_sample))\n",
    "\n",
    "mean_data_Y = np.mean(data_Y)\n",
    "var_data_Y = np.var(data_Y)\n",
    "\n",
    "mean_CI = np.percentile(mean_bootstrap, [2.5, 97.5])\n",
    "\n",
    "# Cetak hasil\n",
    "print(\"Hasil Bootstrap Mean Y:\")\n",
    "print(\"Mean Data Asli: \", mean_data_Y)\n",
    "print(\"Mean Bootstrap: \", np.mean(mean_bootstrap))\n",
    "print(\"\\nHasil Bootstrap Varians Y:\")\n",
    "print(\"Varians Data Asli: \", var_data_Y)\n",
    "print(\"Varians Bootstrap: \", np.mean(var_bootstrap))\n"
   ]
  },
  {
   "cell_type": "markdown",
   "id": "273a9069",
   "metadata": {},
   "source": [
    "7. Lakukan jackknife mean dan varians pada data Y yang terjadi di Tabel 2! (Skor 20)"
   ]
  },
  {
   "cell_type": "code",
   "execution_count": 77,
   "id": "e2aea2e6",
   "metadata": {},
   "outputs": [
    {
     "name": "stdout",
     "output_type": "stream",
     "text": [
      "Mean Jackknife :  15.899999999999997\n",
      "Varians Jackknife :  86.60740740740741\n"
     ]
    }
   ],
   "source": [
    "import numpy as np\n",
    "\n",
    "data_y = np.array([2, 10, 4, 22, 16, 10, 18, 26, 34, 17])\n",
    "\n",
    "mean_all = np.mean(data_y)\n",
    "variance_all = np.var(data_y)\n",
    "mean_jackknife = np.zeros_like(data_y, dtype=float)\n",
    "variance_jackknife = np.zeros_like(data_y, dtype=float)\n",
    "\n",
    "for i in range(len(data_y)):\n",
    "    data_y_jack = np.delete(data_y, i)\n",
    "    mean_jack = np.mean(data_y_jack)\n",
    "    variance_jack = np.var(data_y_jack)\n",
    "    mean_jackknife[i] = mean_jack\n",
    "    variance_jackknife[i] = variance_jack\n",
    "\n",
    "mean_jackknife_estimate = np.mean(mean_jackknife)\n",
    "variance_jackknife_estimate = np.mean(variance_jackknife)\n",
    "\n",
    "print(\"Mean Jackknife : \", mean_jackknife_estimate)\n",
    "print(\"Varians Jackknife : \", variance_jackknife_estimate)\n"
   ]
  },
  {
   "cell_type": "code",
   "execution_count": null,
   "id": "9d4d6688",
   "metadata": {},
   "outputs": [],
   "source": []
  }
 ],
 "metadata": {
  "kernelspec": {
   "display_name": "Python 3 (ipykernel)",
   "language": "python",
   "name": "python3"
  },
  "language_info": {
   "codemirror_mode": {
    "name": "ipython",
    "version": 3
   },
   "file_extension": ".py",
   "mimetype": "text/x-python",
   "name": "python",
   "nbconvert_exporter": "python",
   "pygments_lexer": "ipython3",
   "version": "3.9.13"
  }
 },
 "nbformat": 4,
 "nbformat_minor": 5
}
