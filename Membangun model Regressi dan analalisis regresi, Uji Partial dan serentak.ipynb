{
 "cells": [
  {
   "cell_type": "code",
   "execution_count": null,
   "metadata": {
    "id": "SREr_BXqOnkc"
   },
   "outputs": [],
   "source": [
    "import os\n",
    "import warnings\n",
    "import pandas as pd\n",
    "import numpy as np\n",
    "import seaborn as sns\n",
    "import matplotlib.pyplot as plt\n",
    "from sklearn import metrics\n",
    "\n",
    "# Sklearn\n",
    "from sklearn.linear_model import LinearRegression\n",
    "from sklearn.model_selection import train_test_split\n",
    "from sklearn.preprocessing import StandardScaler\n",
    "\n",
    "# Statmodels\n",
    "import statsmodels\n",
    "import statsmodels.api as sm"
   ]
  },
  {
   "cell_type": "code",
   "execution_count": null,
   "metadata": {
    "colab": {
     "base_uri": "https://localhost:8080/",
     "height": 508
    },
    "id": "4qT7jco5OtHE",
    "outputId": "c91ee9e4-3421-4645-eaad-2b7844dc0214"
   },
   "outputs": [
    {
     "data": {
      "text/html": [
       "<div>\n",
       "<style scoped>\n",
       "    .dataframe tbody tr th:only-of-type {\n",
       "        vertical-align: middle;\n",
       "    }\n",
       "\n",
       "    .dataframe tbody tr th {\n",
       "        vertical-align: top;\n",
       "    }\n",
       "\n",
       "    .dataframe thead th {\n",
       "        text-align: right;\n",
       "    }\n",
       "</style>\n",
       "<table border=\"1\" class=\"dataframe\">\n",
       "  <thead>\n",
       "    <tr style=\"text-align: right;\">\n",
       "      <th></th>\n",
       "      <th>Speed</th>\n",
       "      <th>Power</th>\n",
       "    </tr>\n",
       "  </thead>\n",
       "  <tbody>\n",
       "    <tr>\n",
       "      <th>0</th>\n",
       "      <td>1.2</td>\n",
       "      <td>3</td>\n",
       "    </tr>\n",
       "    <tr>\n",
       "      <th>1</th>\n",
       "      <td>2.5</td>\n",
       "      <td>4</td>\n",
       "    </tr>\n",
       "    <tr>\n",
       "      <th>2</th>\n",
       "      <td>3.1</td>\n",
       "      <td>5</td>\n",
       "    </tr>\n",
       "    <tr>\n",
       "      <th>3</th>\n",
       "      <td>1.6</td>\n",
       "      <td>3</td>\n",
       "    </tr>\n",
       "    <tr>\n",
       "      <th>4</th>\n",
       "      <td>2.7</td>\n",
       "      <td>5</td>\n",
       "    </tr>\n",
       "    <tr>\n",
       "      <th>5</th>\n",
       "      <td>6.0</td>\n",
       "      <td>7</td>\n",
       "    </tr>\n",
       "    <tr>\n",
       "      <th>6</th>\n",
       "      <td>7.2</td>\n",
       "      <td>8</td>\n",
       "    </tr>\n",
       "    <tr>\n",
       "      <th>7</th>\n",
       "      <td>6.1</td>\n",
       "      <td>8</td>\n",
       "    </tr>\n",
       "    <tr>\n",
       "      <th>8</th>\n",
       "      <td>7.0</td>\n",
       "      <td>9</td>\n",
       "    </tr>\n",
       "    <tr>\n",
       "      <th>9</th>\n",
       "      <td>6.1</td>\n",
       "      <td>7</td>\n",
       "    </tr>\n",
       "    <tr>\n",
       "      <th>10</th>\n",
       "      <td>8.3</td>\n",
       "      <td>9</td>\n",
       "    </tr>\n",
       "    <tr>\n",
       "      <th>11</th>\n",
       "      <td>9.0</td>\n",
       "      <td>10</td>\n",
       "    </tr>\n",
       "    <tr>\n",
       "      <th>12</th>\n",
       "      <td>10.0</td>\n",
       "      <td>11</td>\n",
       "    </tr>\n",
       "    <tr>\n",
       "      <th>13</th>\n",
       "      <td>8.0</td>\n",
       "      <td>9</td>\n",
       "    </tr>\n",
       "    <tr>\n",
       "      <th>14</th>\n",
       "      <td>9.0</td>\n",
       "      <td>9</td>\n",
       "    </tr>\n",
       "  </tbody>\n",
       "</table>\n",
       "</div>"
      ],
      "text/plain": [
       "    Speed  Power\n",
       "0     1.2      3\n",
       "1     2.5      4\n",
       "2     3.1      5\n",
       "3     1.6      3\n",
       "4     2.7      5\n",
       "5     6.0      7\n",
       "6     7.2      8\n",
       "7     6.1      8\n",
       "8     7.0      9\n",
       "9     6.1      7\n",
       "10    8.3      9\n",
       "11    9.0     10\n",
       "12   10.0     11\n",
       "13    8.0      9\n",
       "14    9.0      9"
      ]
     },
     "execution_count": 10,
     "metadata": {},
     "output_type": "execute_result"
    }
   ],
   "source": [
    "# Menerapkan dictionary untuk membuat dataframe\n",
    "df = pd.DataFrame({'Speed': [1.2, 2.5, 3.1, 1.6, 2.7, 6, 7.2, 6.1, 7, 6.1, 8.3, 9, 10, 8,9 ],\n",
    "                     'Power': [3,4,5,3,5,7,8,8,9,7,9,10,11,9,9]\n",
    "                   })\n",
    "\n",
    "# Display dataframe\n",
    "df"
   ]
  },
  {
   "cell_type": "code",
   "execution_count": null,
   "metadata": {
    "colab": {
     "base_uri": "https://localhost:8080/"
    },
    "id": "IwJ5VT5qQArR",
    "outputId": "9e6357a2-c31f-4d02-d02a-53f3985b7d46"
   },
   "outputs": [
    {
     "name": "stdout",
     "output_type": "stream",
     "text": [
      "<class 'pandas.core.frame.DataFrame'>\n",
      "RangeIndex: 15 entries, 0 to 14\n",
      "Data columns (total 2 columns):\n",
      " #   Column  Non-Null Count  Dtype  \n",
      "---  ------  --------------  -----  \n",
      " 0   Speed   15 non-null     float64\n",
      " 1   Power   15 non-null     int64  \n",
      "dtypes: float64(1), int64(1)\n",
      "memory usage: 368.0 bytes\n"
     ]
    }
   ],
   "source": [
    "df.info()"
   ]
  },
  {
   "cell_type": "code",
   "execution_count": null,
   "metadata": {
    "colab": {
     "base_uri": "https://localhost:8080/",
     "height": 294
    },
    "id": "ETWXQ8qrQE72",
    "outputId": "7fe4d5a5-a77e-40d2-b00a-97d101fe3fd2"
   },
   "outputs": [
    {
     "data": {
      "text/html": [
       "<div>\n",
       "<style scoped>\n",
       "    .dataframe tbody tr th:only-of-type {\n",
       "        vertical-align: middle;\n",
       "    }\n",
       "\n",
       "    .dataframe tbody tr th {\n",
       "        vertical-align: top;\n",
       "    }\n",
       "\n",
       "    .dataframe thead th {\n",
       "        text-align: right;\n",
       "    }\n",
       "</style>\n",
       "<table border=\"1\" class=\"dataframe\">\n",
       "  <thead>\n",
       "    <tr style=\"text-align: right;\">\n",
       "      <th></th>\n",
       "      <th>Speed</th>\n",
       "      <th>Power</th>\n",
       "    </tr>\n",
       "  </thead>\n",
       "  <tbody>\n",
       "    <tr>\n",
       "      <th>count</th>\n",
       "      <td>15.000000</td>\n",
       "      <td>15.000000</td>\n",
       "    </tr>\n",
       "    <tr>\n",
       "      <th>mean</th>\n",
       "      <td>5.853333</td>\n",
       "      <td>7.133333</td>\n",
       "    </tr>\n",
       "    <tr>\n",
       "      <th>std</th>\n",
       "      <td>2.920095</td>\n",
       "      <td>2.559762</td>\n",
       "    </tr>\n",
       "    <tr>\n",
       "      <th>min</th>\n",
       "      <td>1.200000</td>\n",
       "      <td>3.000000</td>\n",
       "    </tr>\n",
       "    <tr>\n",
       "      <th>25%</th>\n",
       "      <td>2.900000</td>\n",
       "      <td>5.000000</td>\n",
       "    </tr>\n",
       "    <tr>\n",
       "      <th>50%</th>\n",
       "      <td>6.100000</td>\n",
       "      <td>8.000000</td>\n",
       "    </tr>\n",
       "    <tr>\n",
       "      <th>75%</th>\n",
       "      <td>8.150000</td>\n",
       "      <td>9.000000</td>\n",
       "    </tr>\n",
       "    <tr>\n",
       "      <th>max</th>\n",
       "      <td>10.000000</td>\n",
       "      <td>11.000000</td>\n",
       "    </tr>\n",
       "  </tbody>\n",
       "</table>\n",
       "</div>"
      ],
      "text/plain": [
       "           Speed      Power\n",
       "count  15.000000  15.000000\n",
       "mean    5.853333   7.133333\n",
       "std     2.920095   2.559762\n",
       "min     1.200000   3.000000\n",
       "25%     2.900000   5.000000\n",
       "50%     6.100000   8.000000\n",
       "75%     8.150000   9.000000\n",
       "max    10.000000  11.000000"
      ]
     },
     "execution_count": 12,
     "metadata": {},
     "output_type": "execute_result"
    }
   ],
   "source": [
    "df.describe()"
   ]
  },
  {
   "cell_type": "code",
   "execution_count": null,
   "metadata": {
    "colab": {
     "base_uri": "https://localhost:8080/",
     "height": 592
    },
    "id": "pTKA_n65QHKe",
    "outputId": "6c08ae85-b6aa-4fb2-a313-47ec3d49b07a"
   },
   "outputs": [
    {
     "data": {
      "image/png": "[encoded data removed]",
      "text/plain": [
       "<Figure size 1080x720 with 4 Axes>"
      ]
     },
     "metadata": {
      "needs_background": "light"
     },
     "output_type": "display_data"
    }
   ],
   "source": [
    "# Cek normalitas data dengan histogram\n",
    "warnings.filterwarnings('ignore')\n",
    "fig, axes = plt.subplots(2, 2, figsize=(15, 10))\n",
    "\n",
    "sns.distplot(df[\"Speed\"], ax=axes[0, 0])\n",
    "sns.distplot(df[\"Power\"], ax=axes[0, 1])\n",
    "plt.show()"
   ]
  },
  {
   "cell_type": "code",
   "execution_count": null,
   "metadata": {
    "colab": {
     "base_uri": "https://localhost:8080/",
     "height": 592
    },
    "id": "3_W4MMU3QKcB",
    "outputId": "98dc2359-7387-4c92-a4b1-f980043635cf"
   },
   "outputs": [
    {
     "data": {
      "image/png": "[encoded data removed]",
      "text/plain": [
       "<Figure size 1080x720 with 4 Axes>"
      ]
     },
     "metadata": {
      "needs_background": "light"
     },
     "output_type": "display_data"
    }
   ],
   "source": [
    "# Cek normalitas data dengan boxplot\n",
    "fig, axes = plt.subplots(2, 2, figsize=(15, 10))\n",
    "\n",
    "sns.boxplot(df[\"Speed\"], ax=axes[0, 0])\n",
    "sns.boxplot(df[\"Power\"], ax=axes[0, 1])\n",
    "plt.show()"
   ]
  },
  {
   "cell_type": "code",
   "execution_count": null,
   "metadata": {
    "colab": {
     "base_uri": "https://localhost:8080/",
     "height": 606
    },
    "id": "HLNMX13PQqPy",
    "outputId": "4f6c4cc1-2f5f-4791-b724-c78244a94f41"
   },
   "outputs": [
    {
     "data": {
      "image/png": "[encoded data removed]",
      "text/plain": [
       "<Figure size 1080x720 with 4 Axes>"
      ]
     },
     "metadata": {
      "needs_background": "light"
     },
     "output_type": "display_data"
    }
   ],
   "source": [
    "# Cek normalitas data dengan Q-Q plot\n",
    "fig, axes = plt.subplots(2, 2, figsize=(15, 10))\n",
    "\n",
    "sm.graphics.qqplot(df[\"Speed\"].dropna(), line='s', ax=axes[0, 0])\n",
    "axes[0, 0].title.set_text('Q-Qplot Plot MSSubClass')\n",
    "\n",
    "sm.graphics.qqplot(df[\"Power\"].dropna(), line='s', ax=axes[0, 1])\n",
    "axes[0, 1].title.set_text('Q-Qplot Plot LotArea')\n",
    "\n",
    "plt.show()"
   ]
  },
  {
   "cell_type": "code",
   "execution_count": null,
   "metadata": {
    "id": "Pa-jguR0QwQF"
   },
   "outputs": [],
   "source": [
    "#### Uji Linearitas"
   ]
  },
  {
   "cell_type": "code",
   "execution_count": null,
   "metadata": {
    "colab": {
     "base_uri": "https://localhost:8080/",
     "height": 431
    },
    "id": "yXQGvd-_Q2TV",
    "outputId": "2af9dc47-948a-4587-a13c-dafd74cceeb5"
   },
   "outputs": [
    {
     "data": {
      "image/png": "[encoded data removed]",
      "text/plain": [
       "<Figure size 1512x432 with 2 Axes>"
      ]
     },
     "metadata": {
      "needs_background": "light"
     },
     "output_type": "display_data"
    }
   ],
   "source": [
    "# Keterkaitan x dengan y\n",
    "fig, axes = plt.subplots(1, 2, figsize=(21, 6))\n",
    "fig.suptitle('Variable Dependent vs Independent')\n",
    "\n",
    "sns.regplot(x=df[\"Speed\"], y=df[\"Power\"], lowess=True, line_kws={'color': 'red'}, ax=axes[0])\n",
    "plt.show()"
   ]
  },
  {
   "cell_type": "markdown",
   "metadata": {
    "id": "LkGnskJASG3O"
   },
   "source": [
    "## 3 Membangun Model Regresi"
   ]
  },
  {
   "cell_type": "code",
   "execution_count": null,
   "metadata": {
    "id": "QDe6h8YCR_Hf"
   },
   "outputs": [],
   "source": [
    "x = df['Speed'].values.reshape(-1,1)\n",
    "y= df['Power'].values.reshape(-1,1)"
   ]
  },
  {
   "cell_type": "markdown",
   "metadata": {
    "id": "sJ8EIE4-SHyZ"
   },
   "source": [
    "### Membangun Model dengan Sklearn"
   ]
  },
  {
   "cell_type": "code",
   "execution_count": null,
   "metadata": {
    "colab": {
     "base_uri": "https://localhost:8080/"
    },
    "id": "2RQrEAloSJtU",
    "outputId": "6f3d61f9-075b-4cda-d089-14d42450e15e"
   },
   "outputs": [
    {
     "data": {
      "text/plain": [
       "LinearRegression(copy_X=True, fit_intercept=True, n_jobs=None, normalize=False)"
      ]
     },
     "execution_count": 32,
     "metadata": {},
     "output_type": "execute_result"
    }
   ],
   "source": [
    "lrmodel = LinearRegression()\n",
    "lrmodel.fit(x,y)"
   ]
  },
  {
   "cell_type": "markdown",
   "metadata": {
    "id": "37jBq_wXSMWo"
   },
   "source": [
    "#### Asumsi Analisis Regresi"
   ]
  },
  {
   "cell_type": "markdown",
   "metadata": {
    "id": "smAGdwUUSPOy"
   },
   "source": [
    "**Asumsi Residual Distribusi Normal**"
   ]
  },
  {
   "cell_type": "code",
   "execution_count": null,
   "metadata": {
    "colab": {
     "base_uri": "https://localhost:8080/",
     "height": 202
    },
    "id": "XWi84asFSNaF",
    "outputId": "60fc7400-b0f5-4ef2-bfae-0e1b44dc905b"
   },
   "outputs": [
    {
     "data": {
      "text/html": [
       "<div>\n",
       "<style scoped>\n",
       "    .dataframe tbody tr th:only-of-type {\n",
       "        vertical-align: middle;\n",
       "    }\n",
       "\n",
       "    .dataframe tbody tr th {\n",
       "        vertical-align: top;\n",
       "    }\n",
       "\n",
       "    .dataframe thead th {\n",
       "        text-align: right;\n",
       "    }\n",
       "</style>\n",
       "<table border=\"1\" class=\"dataframe\">\n",
       "  <thead>\n",
       "    <tr style=\"text-align: right;\">\n",
       "      <th></th>\n",
       "      <th>Speed</th>\n",
       "      <th>Power</th>\n",
       "      <th>prediction</th>\n",
       "      <th>residual</th>\n",
       "    </tr>\n",
       "  </thead>\n",
       "  <tbody>\n",
       "    <tr>\n",
       "      <th>0</th>\n",
       "      <td>1.2</td>\n",
       "      <td>3</td>\n",
       "      <td>3.122547</td>\n",
       "      <td>-0.122547</td>\n",
       "    </tr>\n",
       "    <tr>\n",
       "      <th>1</th>\n",
       "      <td>2.5</td>\n",
       "      <td>4</td>\n",
       "      <td>4.243039</td>\n",
       "      <td>-0.243039</td>\n",
       "    </tr>\n",
       "    <tr>\n",
       "      <th>2</th>\n",
       "      <td>3.1</td>\n",
       "      <td>5</td>\n",
       "      <td>4.760189</td>\n",
       "      <td>0.239811</td>\n",
       "    </tr>\n",
       "    <tr>\n",
       "      <th>3</th>\n",
       "      <td>1.6</td>\n",
       "      <td>3</td>\n",
       "      <td>3.467314</td>\n",
       "      <td>-0.467314</td>\n",
       "    </tr>\n",
       "    <tr>\n",
       "      <th>4</th>\n",
       "      <td>2.7</td>\n",
       "      <td>5</td>\n",
       "      <td>4.415422</td>\n",
       "      <td>0.584578</td>\n",
       "    </tr>\n",
       "  </tbody>\n",
       "</table>\n",
       "</div>"
      ],
      "text/plain": [
       "   Speed  Power  prediction  residual\n",
       "0    1.2      3    3.122547 -0.122547\n",
       "1    2.5      4    4.243039 -0.243039\n",
       "2    3.1      5    4.760189  0.239811\n",
       "3    1.6      3    3.467314 -0.467314\n",
       "4    2.7      5    4.415422  0.584578"
      ]
     },
     "execution_count": 41,
     "metadata": {},
     "output_type": "execute_result"
    }
   ],
   "source": [
    "prediksi = lrmodel.predict(x)\n",
    "df = pd.DataFrame(x,columns=['Speed'])\n",
    "df['Power'] = y\n",
    "df['prediction'] = prediksi\n",
    "df['residual'] = y-prediksi\n",
    "\n",
    "df.head(5)"
   ]
  },
  {
   "cell_type": "code",
   "execution_count": null,
   "metadata": {
    "colab": {
     "base_uri": "https://localhost:8080/",
     "height": 595
    },
    "id": "DoGreyduSWSv",
    "outputId": "715c2baf-0a14-48ea-b4ed-5a16eb2ee4e7"
   },
   "outputs": [
    {
     "data": {
      "image/png": "[encoded data removed]",
      "text/plain": [
       "<Figure size 1080x720 with 4 Axes>"
      ]
     },
     "metadata": {
      "needs_background": "light"
     },
     "output_type": "display_data"
    }
   ],
   "source": [
    "# Cek normalitas data dengan histogram\n",
    "warnings.filterwarnings('ignore')\n",
    "fig, axes = plt.subplots(2, 2, figsize=(15, 10))\n",
    "\n",
    "sns.distplot(df[\"residual\"], ax=axes[0, 0])\n",
    "plt.show()"
   ]
  },
  {
   "cell_type": "markdown",
   "metadata": {
    "id": "LiRmJVWrSgBo"
   },
   "source": [
    "**Asumsi No autokorelasi**\n"
   ]
  },
  {
   "cell_type": "code",
   "execution_count": null,
   "metadata": {
    "colab": {
     "base_uri": "https://localhost:8080/"
    },
    "id": "x_XSV6dmSZ9k",
    "outputId": "bdcbf00f-2d11-4b78-a190-c040aa044fca"
   },
   "outputs": [
    {
     "data": {
      "text/plain": [
       "1.9760332647512808"
      ]
     },
     "execution_count": 38,
     "metadata": {},
     "output_type": "execute_result"
    }
   ],
   "source": [
    "statsmodels.stats.stattools.durbin_watson(df.residual, axis=0)"
   ]
  },
  {
   "cell_type": "markdown",
   "metadata": {
    "id": "hedKWVE3Sl5h"
   },
   "source": [
    "**Asumsi Homoskedastisitas**"
   ]
  },
  {
   "cell_type": "code",
   "execution_count": null,
   "metadata": {
    "colab": {
     "base_uri": "https://localhost:8080/",
     "height": 294
    },
    "id": "fUGOlCmJSlQg",
    "outputId": "5269f1be-82ce-417d-cb5d-d457181774df"
   },
   "outputs": [
    {
     "data": {
      "image/png": "[encoded data removed]",
      "text/plain": [
       "<Figure size 432x288 with 1 Axes>"
      ]
     },
     "metadata": {
      "needs_background": "light"
     },
     "output_type": "display_data"
    }
   ],
   "source": [
    "asm_homosk = plt.scatter(df['prediction'], df[\"residual\"])\n",
    "plt.xlabel('predicted')\n",
    "plt.ylabel('Residuals')\n",
    "asm_homosk = sns.lineplot([-3,9],[0,0],color='red')\n",
    "asm_homosk = plt.title('Residuals vs Prediction')"
   ]
  },
  {
   "cell_type": "markdown",
   "metadata": {
    "id": "cQOt7Lx-S719"
   },
   "source": [
    "#### Evaluasi Model"
   ]
  },
  {
   "cell_type": "markdown",
   "metadata": {
    "id": "fcS3exZATMzU"
   },
   "source": [
    "### Membangun model dengan package Statsmodels"
   ]
  },
  {
   "cell_type": "code",
   "execution_count": null,
   "metadata": {
    "colab": {
     "base_uri": "https://localhost:8080/"
    },
    "id": "uu-E1sh7TJmR",
    "outputId": "5d6c384f-6102-4a7b-a36d-aa9c17cb7117"
   },
   "outputs": [
    {
     "name": "stdout",
     "output_type": "stream",
     "text": [
      "                            OLS Regression Results                            \n",
      "==============================================================================\n",
      "Dep. Variable:                      y   R-squared:                       0.967\n",
      "Model:                            OLS   Adj. R-squared:                  0.964\n",
      "Method:                 Least Squares   F-statistic:                     378.3\n",
      "Date:                Wed, 25 Aug 2021   Prob (F-statistic):           5.40e-11\n",
      "Time:                        12:33:16   Log-Likelihood:                -9.3319\n",
      "No. Observations:                  15   AIC:                             22.66\n",
      "Df Residuals:                      13   BIC:                             24.08\n",
      "Df Model:                           1                                         \n",
      "Covariance Type:            nonrobust                                         \n",
      "==============================================================================\n",
      "                 coef    std err          t      P>|t|      [0.025      0.975]\n",
      "------------------------------------------------------------------------------\n",
      "const          2.0882      0.288      7.252      0.000       1.466       2.710\n",
      "x1             0.8619      0.044     19.449      0.000       0.766       0.958\n",
      "==============================================================================\n",
      "Omnibus:                        0.316   Durbin-Watson:                   1.976\n",
      "Prob(Omnibus):                  0.854   Jarque-Bera (JB):                0.400\n",
      "Skew:                           0.275   Prob(JB):                        0.819\n",
      "Kurtosis:                       2.420   Cond. No.                         15.3\n",
      "==============================================================================\n",
      "\n",
      "Warnings:\n",
      "[1] Standard Errors assume that the covariance matrix of the errors is correctly specified.\n"
     ]
    }
   ],
   "source": [
    "#Masukkan intercepts secara manual\n",
    "Input = sm.add_constant(x)\n",
    "\n",
    "#Modelling dengan statmodels\n",
    "SimpleModel = sm.OLS(y,Input, missing ='drop')\n",
    "results = SimpleModel.fit()\n",
    "\n",
    "#priint result\n",
    "print (results.summary())"
   ]
  },
  {
   "cell_type": "markdown",
   "metadata": {
    "id": "LHHvqrUpTVQ0"
   },
   "source": [
    "### Uji Partial & Serentak Analisis Regresi"
   ]
  },
  {
   "cell_type": "code",
   "execution_count": null,
   "metadata": {
    "colab": {
     "base_uri": "https://localhost:8080/"
    },
    "id": "toQmTDGTTQ2h",
    "outputId": "67540ab2-351c-4b36-d47e-2f702825364f"
   },
   "outputs": [
    {
     "name": "stdout",
     "output_type": "stream",
     "text": [
      "T-test score const:  7.252027542360029\n",
      "T-test score X1:  19.449216019471883\n"
     ]
    }
   ],
   "source": [
    "t_test_const, t_test_X1 = results.tvalues\n",
    "print(\"T-test score const: \", t_test_const)\n",
    "print(\"T-test score X1: \", t_test_X1)"
   ]
  },
  {
   "cell_type": "markdown",
   "metadata": {
    "id": "5yNpOWYoTUZ6"
   },
   "source": [
    "Uji kelayakan model F-test memilki tujuan, apakah model yang dibentuk layak digunakan atau tidak"
   ]
  },
  {
   "cell_type": "code",
   "execution_count": null,
   "metadata": {
    "colab": {
     "base_uri": "https://localhost:8080/"
    },
    "id": "DD7smVO7TXsJ",
    "outputId": "25d1cac5-8500-4d07-cf82-1e7a91dbc492"
   },
   "outputs": [
    {
     "name": "stdout",
     "output_type": "stream",
     "text": [
      "f-test score :  378.2720037720819\n",
      "P-value :  5.401216957570596e-11\n",
      "Tolak H0\n"
     ]
    }
   ],
   "source": [
    "f_value = results.fvalue\n",
    "print(\"f-test score : \", f_value)\n",
    "\n",
    "p_value = results.f_pvalue\n",
    "print(\"P-value : \", p_value)\n",
    "\n",
    "if p_value < 0.05:\n",
    "  print(\"Tolak H0\")\n",
    "else:\n",
    "  print(\"Terima H0\")"
   ]
  }
 ],
 "metadata": {
  "colab": {
   "provenance": []
  },
  "kernelspec": {
   "display_name": "Python 3 (ipykernel)",
   "language": "python",
   "name": "python3"
  },
  "language_info": {
   "codemirror_mode": {
    "name": "ipython",
    "version": 3
   },
   "file_extension": ".py",
   "mimetype": "text/x-python",
   "name": "python",
   "nbconvert_exporter": "python",
   "pygments_lexer": "ipython3",
   "version": "3.11.5"
  }
 },
 "nbformat": 4,
 "nbformat_minor": 4
}
