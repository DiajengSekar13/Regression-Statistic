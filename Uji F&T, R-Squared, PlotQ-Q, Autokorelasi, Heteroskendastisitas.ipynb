{
 "cells": [
  {
   "cell_type": "markdown",
   "id": "0b80a17a",
   "metadata": {},
   "source": [
    "# **Tugas Statistika Regresi B**"
   ]
  },
  {
   "cell_type": "markdown",
   "id": "e0bbea2b",
   "metadata": {},
   "source": [
    "# Nama Kelompok :\n",
    "1. Larasati (22083010018)\n",
    "2. Desi Tristianti (22083010037)"
   ]
  },
  {
   "cell_type": "code",
   "execution_count": 68,
   "id": "49ac5a28",
   "metadata": {},
   "outputs": [
    {
     "data": {
      "text/html": [
       "<div>\n",
       "<style scoped>\n",
       "    .dataframe tbody tr th:only-of-type {\n",
       "        vertical-align: middle;\n",
       "    }\n",
       "\n",
       "    .dataframe tbody tr th {\n",
       "        vertical-align: top;\n",
       "    }\n",
       "\n",
       "    .dataframe thead th {\n",
       "        text-align: right;\n",
       "    }\n",
       "</style>\n",
       "<table border=\"1\" class=\"dataframe\">\n",
       "  <thead>\n",
       "    <tr style=\"text-align: right;\">\n",
       "      <th></th>\n",
       "      <th>Biaya iklan ($ thousand)</th>\n",
       "      <th>Jumlah Produk terjual (million)</th>\n",
       "    </tr>\n",
       "  </thead>\n",
       "  <tbody>\n",
       "    <tr>\n",
       "      <th>0</th>\n",
       "      <td>587</td>\n",
       "      <td>564</td>\n",
       "    </tr>\n",
       "    <tr>\n",
       "      <th>1</th>\n",
       "      <td>781</td>\n",
       "      <td>571</td>\n",
       "    </tr>\n",
       "    <tr>\n",
       "      <th>2</th>\n",
       "      <td>937</td>\n",
       "      <td>583</td>\n",
       "    </tr>\n",
       "    <tr>\n",
       "      <th>3</th>\n",
       "      <td>988</td>\n",
       "      <td>593</td>\n",
       "    </tr>\n",
       "    <tr>\n",
       "      <th>4</th>\n",
       "      <td>441</td>\n",
       "      <td>531</td>\n",
       "    </tr>\n",
       "    <tr>\n",
       "      <th>5</th>\n",
       "      <td>451</td>\n",
       "      <td>533</td>\n",
       "    </tr>\n",
       "    <tr>\n",
       "      <th>6</th>\n",
       "      <td>498</td>\n",
       "      <td>537</td>\n",
       "    </tr>\n",
       "    <tr>\n",
       "      <th>7</th>\n",
       "      <td>508</td>\n",
       "      <td>544</td>\n",
       "    </tr>\n",
       "    <tr>\n",
       "      <th>8</th>\n",
       "      <td>526</td>\n",
       "      <td>547</td>\n",
       "    </tr>\n",
       "    <tr>\n",
       "      <th>9</th>\n",
       "      <td>530</td>\n",
       "      <td>548</td>\n",
       "    </tr>\n",
       "    <tr>\n",
       "      <th>10</th>\n",
       "      <td>392</td>\n",
       "      <td>522</td>\n",
       "    </tr>\n",
       "    <tr>\n",
       "      <th>11</th>\n",
       "      <td>539</td>\n",
       "      <td>552</td>\n",
       "    </tr>\n",
       "    <tr>\n",
       "      <th>12</th>\n",
       "      <td>536</td>\n",
       "      <td>550</td>\n",
       "    </tr>\n",
       "    <tr>\n",
       "      <th>13</th>\n",
       "      <td>741</td>\n",
       "      <td>570</td>\n",
       "    </tr>\n",
       "    <tr>\n",
       "      <th>14</th>\n",
       "      <td>733</td>\n",
       "      <td>569</td>\n",
       "    </tr>\n",
       "    <tr>\n",
       "      <th>15</th>\n",
       "      <td>566</td>\n",
       "      <td>560</td>\n",
       "    </tr>\n",
       "    <tr>\n",
       "      <th>16</th>\n",
       "      <td>578</td>\n",
       "      <td>560</td>\n",
       "    </tr>\n",
       "    <tr>\n",
       "      <th>17</th>\n",
       "      <td>511</td>\n",
       "      <td>544</td>\n",
       "    </tr>\n",
       "    <tr>\n",
       "      <th>18</th>\n",
       "      <td>511</td>\n",
       "      <td>546</td>\n",
       "    </tr>\n",
       "    <tr>\n",
       "      <th>19</th>\n",
       "      <td>796</td>\n",
       "      <td>571</td>\n",
       "    </tr>\n",
       "    <tr>\n",
       "      <th>20</th>\n",
       "      <td>806</td>\n",
       "      <td>571</td>\n",
       "    </tr>\n",
       "    <tr>\n",
       "      <th>21</th>\n",
       "      <td>297</td>\n",
       "      <td>512</td>\n",
       "    </tr>\n",
       "    <tr>\n",
       "      <th>22</th>\n",
       "      <td>302</td>\n",
       "      <td>513</td>\n",
       "    </tr>\n",
       "    <tr>\n",
       "      <th>23</th>\n",
       "      <td>487</td>\n",
       "      <td>534</td>\n",
       "    </tr>\n",
       "    <tr>\n",
       "      <th>24</th>\n",
       "      <td>928</td>\n",
       "      <td>582</td>\n",
       "    </tr>\n",
       "    <tr>\n",
       "      <th>25</th>\n",
       "      <td>408</td>\n",
       "      <td>525</td>\n",
       "    </tr>\n",
       "    <tr>\n",
       "      <th>26</th>\n",
       "      <td>686</td>\n",
       "      <td>567</td>\n",
       "    </tr>\n",
       "    <tr>\n",
       "      <th>27</th>\n",
       "      <td>347</td>\n",
       "      <td>517</td>\n",
       "    </tr>\n",
       "    <tr>\n",
       "      <th>28</th>\n",
       "      <td>454</td>\n",
       "      <td>533</td>\n",
       "    </tr>\n",
       "    <tr>\n",
       "      <th>29</th>\n",
       "      <td>495</td>\n",
       "      <td>536</td>\n",
       "    </tr>\n",
       "    <tr>\n",
       "      <th>30</th>\n",
       "      <td>392</td>\n",
       "      <td>519</td>\n",
       "    </tr>\n",
       "    <tr>\n",
       "      <th>31</th>\n",
       "      <td>821</td>\n",
       "      <td>581</td>\n",
       "    </tr>\n",
       "    <tr>\n",
       "      <th>32</th>\n",
       "      <td>634</td>\n",
       "      <td>566</td>\n",
       "    </tr>\n",
       "    <tr>\n",
       "      <th>33</th>\n",
       "      <td>252</td>\n",
       "      <td>498</td>\n",
       "    </tr>\n",
       "    <tr>\n",
       "      <th>34</th>\n",
       "      <td>261</td>\n",
       "      <td>511</td>\n",
       "    </tr>\n",
       "  </tbody>\n",
       "</table>\n",
       "</div>"
      ],
      "text/plain": [
       "    Biaya iklan ($ thousand)  Jumlah Produk terjual (million)\n",
       "0                        587                              564\n",
       "1                        781                              571\n",
       "2                        937                              583\n",
       "3                        988                              593\n",
       "4                        441                              531\n",
       "5                        451                              533\n",
       "6                        498                              537\n",
       "7                        508                              544\n",
       "8                        526                              547\n",
       "9                        530                              548\n",
       "10                       392                              522\n",
       "11                       539                              552\n",
       "12                       536                              550\n",
       "13                       741                              570\n",
       "14                       733                              569\n",
       "15                       566                              560\n",
       "16                       578                              560\n",
       "17                       511                              544\n",
       "18                       511                              546\n",
       "19                       796                              571\n",
       "20                       806                              571\n",
       "21                       297                              512\n",
       "22                       302                              513\n",
       "23                       487                              534\n",
       "24                       928                              582\n",
       "25                       408                              525\n",
       "26                       686                              567\n",
       "27                       347                              517\n",
       "28                       454                              533\n",
       "29                       495                              536\n",
       "30                       392                              519\n",
       "31                       821                              581\n",
       "32                       634                              566\n",
       "33                       252                              498\n",
       "34                       261                              511"
      ]
     },
     "execution_count": 68,
     "metadata": {},
     "output_type": "execute_result"
    }
   ],
   "source": [
    "import pandas as pd\n",
    "\n",
    "df = pd.read_csv(\"C:/Users/Larasati/Downloads/Data tabel 9 csv.csv\")\n",
    "df"
   ]
  },
  {
   "cell_type": "code",
   "execution_count": 69,
   "id": "bbf94fac",
   "metadata": {},
   "outputs": [
    {
     "data": {
      "image/png": "[encoded data removed]",
      "text/plain": [
       "<Figure size 432x288 with 1 Axes>"
      ]
     },
     "metadata": {
      "needs_background": "light"
     },
     "output_type": "display_data"
    }
   ],
   "source": [
    "#Menampilkan Scatter Plot\n",
    "\n",
    "import numpy as np\n",
    "import matplotlib.pyplot as plt\n",
    "import seaborn as sns\n",
    "\n",
    "x = df[['Biaya iklan ($ thousand)']]\n",
    "y = df['Jumlah Produk terjual (million)']\n",
    "\n",
    "plt.style.use('fivethirtyeight')\n",
    "import warnings\n",
    "warnings.filterwarnings('ignore')\n",
    "%matplotlib inline\n",
    "\n",
    "# Untuk memunculkan Scatter Plot\n",
    "plt.scatter(x,y)\n",
    "plt.xlabel('Biaya iklan ($ thousand)')\n",
    "plt.ylabel('Jumlah Produk terjual (million)')\n",
    "plt.title('Scatter Plot Biaya iklan ($ thousand) vs Jumlah Produk terjual (million)')\n",
    "plt.show()"
   ]
  },
  {
   "cell_type": "code",
   "execution_count": 70,
   "id": "55081536",
   "metadata": {},
   "outputs": [
    {
     "name": "stdout",
     "output_type": "stream",
     "text": [
      "                                   OLS Regression Results                                  \n",
      "===========================================================================================\n",
      "Dep. Variable:     Jumlah Produk terjual (million)   R-squared:                       0.932\n",
      "Model:                                         OLS   Adj. R-squared:                  0.930\n",
      "Method:                              Least Squares   F-statistic:                     455.0\n",
      "Date:                             Mon, 18 Sep 2023   Prob (F-statistic):           7.08e-21\n",
      "Time:                                     16:16:05   Log-Likelihood:                -113.51\n",
      "No. Observations:                               35   AIC:                             231.0\n",
      "Df Residuals:                                   33   BIC:                             234.1\n",
      "Df Model:                                        1                                         \n",
      "Covariance Type:                         nonrobust                                         \n",
      "============================================================================================\n",
      "                               coef    std err          t      P>|t|      [0.025      0.975]\n",
      "--------------------------------------------------------------------------------------------\n",
      "const                      479.7566      3.351    143.172      0.000     472.939     486.574\n",
      "Biaya iklan ($ thousand)     0.1201      0.006     21.331      0.000       0.109       0.132\n",
      "==============================================================================\n",
      "Omnibus:                        1.124   Durbin-Watson:                   1.468\n",
      "Prob(Omnibus):                  0.570   Jarque-Bera (JB):                1.108\n",
      "Skew:                           0.377   Prob(JB):                        0.575\n",
      "Kurtosis:                       2.561   Cond. No.                     1.85e+03\n",
      "==============================================================================\n",
      "\n",
      "Notes:\n",
      "[1] Standard Errors assume that the covariance matrix of the errors is correctly specified.\n",
      "[2] The condition number is large, 1.85e+03. This might indicate that there are\n",
      "strong multicollinearity or other numerical problems.\n"
     ]
    }
   ],
   "source": [
    "#Memodelkan dengan Regresi Linier Sederhana\n",
    "\n",
    "import statsmodels.api as sm\n",
    "\n",
    "x = sm.add_constant(x)\n",
    "model = sm.OLS(y, x).fit()\n",
    "print_model = model.summary()\n",
    "print(print_model)"
   ]
  },
  {
   "cell_type": "code",
   "execution_count": 71,
   "id": "97090bf8",
   "metadata": {},
   "outputs": [
    {
     "name": "stdout",
     "output_type": "stream",
     "text": [
      "0    550.259675\n",
      "1    573.560516\n",
      "2    592.297275\n",
      "3    598.422753\n",
      "4    532.723991\n",
      "dtype: float64\n"
     ]
    }
   ],
   "source": [
    "#Prediksi y\n",
    "prediksi = model.predict(x)\n",
    "print(prediksi.head())"
   ]
  },
  {
   "cell_type": "code",
   "execution_count": 72,
   "id": "dd6fcd06",
   "metadata": {},
   "outputs": [
    {
     "name": "stdout",
     "output_type": "stream",
     "text": [
      "0    13.740325\n",
      "1    -2.560516\n",
      "2    -9.297275\n",
      "3    -5.422753\n",
      "4    -1.723991\n",
      "dtype: float64\n"
     ]
    }
   ],
   "source": [
    "#Residual e i\n",
    "residual=model.resid\n",
    "print(residual.head())"
   ]
  },
  {
   "cell_type": "markdown",
   "id": "e33fadba",
   "metadata": {},
   "source": [
    "# **Uji F**"
   ]
  },
  {
   "cell_type": "code",
   "execution_count": 73,
   "id": "4181d0d6",
   "metadata": {},
   "outputs": [
    {
     "name": "stdout",
     "output_type": "stream",
     "text": [
      "Nilai F-statistic: 455.0008608114662\n",
      "Nilai p-value: 7.083409440789599e-21\n",
      "Biaya iklan berpengaruh signifikan terhadap jumlah produk terjual. Tolak Hipotesis Nol\n"
     ]
    }
   ],
   "source": [
    "# Pisahkan variabel independen (X) dan variabel dependen (y)\n",
    "\n",
    "from sklearn.feature_selection import f_regression\n",
    "\n",
    "x = df['Biaya iklan ($ thousand)'].values.reshape(-1, 1)\n",
    "y = df['Jumlah Produk terjual (million)']\n",
    "\n",
    "# Buat model regresi linear\n",
    "regressor = LinearRegression()\n",
    "regressor.fit(x, y)\n",
    "\n",
    "# Hitung uji F\n",
    "f_statistic, p_value = f_regression(x, y)\n",
    "\n",
    "print(f\"Nilai F-statistic: {f_statistic[0]}\")\n",
    "print(f\"Nilai p-value: {p_value[0]}\")\n",
    "\n",
    "# Ambang batas signifikansi\n",
    "alpha = 0.05\n",
    "\n",
    "if p_value[0] < alpha:\n",
    "    print(\"Biaya iklan berpengaruh signifikan terhadap jumlah produk terjual. Tolak Hipotesis Nol\")\n",
    "else:\n",
    "    print(\"Biaya iklan tidak berpengaruh signifikan terhadap jumlah produk terjual. Gagal Tolak Hipotesis Nol\")\n"
   ]
  },
  {
   "cell_type": "markdown",
   "id": "7b264451",
   "metadata": {},
   "source": [
    "# **R - Squared**"
   ]
  },
  {
   "cell_type": "code",
   "execution_count": 74,
   "id": "c89a27ea",
   "metadata": {},
   "outputs": [
    {
     "name": "stdout",
     "output_type": "stream",
     "text": [
      "R-squared: 0.9323771684641607\n"
     ]
    }
   ],
   "source": [
    "x = df['Biaya iklan ($ thousand)']\n",
    "y = df['Jumlah Produk terjual (million)']\n",
    "\n",
    "# Hitung rata-rata dari masing-masing variabel\n",
    "mean_x = np.mean(x)\n",
    "mean_y = np.mean(y)\n",
    "\n",
    "# Hitung varians dari masing-masing variabel\n",
    "variance_x = np.var(x, ddof=1)\n",
    "variance_y = np.var(y, ddof=1)\n",
    "\n",
    "# Hitung kovarians antara Biaya Iklan dan Jumlah Produk terjual\n",
    "covariance = np.cov(x, y, ddof=1)[0, 1]\n",
    "\n",
    "# Hitung koefisien determinasi (R-squared)\n",
    "r_squared = (covariance / (np.sqrt(variance_x) * np.sqrt(variance_y)))**2\n",
    "\n",
    "print(\"R-squared:\", r_squared)\n"
   ]
  },
  {
   "cell_type": "markdown",
   "id": "6af492c6",
   "metadata": {},
   "source": [
    "R-squared mendekati 1, itu berarti bahwa biaya iklan berpengaruh baik dalam penjualan produk"
   ]
  },
  {
   "cell_type": "markdown",
   "id": "6eef2d1d",
   "metadata": {},
   "source": [
    "# **Uji T**"
   ]
  },
  {
   "cell_type": "code",
   "execution_count": 75,
   "id": "7a878e19",
   "metadata": {},
   "outputs": [
    {
     "name": "stdout",
     "output_type": "stream",
     "text": [
      "T-Statistic: 0.48321559032716577\n",
      "P-Value: 0.6304949132144901\n",
      "Tidak ada perbedaan signifikan, gagal tolak hipotesis nol\n"
     ]
    }
   ],
   "source": [
    "from scipy import stats\n",
    "\n",
    "# Melakukan uji t-student\n",
    "t_statistic, p_value = stats.ttest_ind(x,y)\n",
    "\n",
    "# Menampilkan hasil uji t-student\n",
    "print(\"T-Statistic:\", t_statistic)\n",
    "print(\"P-Value:\", p_value)\n",
    "\n",
    "# Menentukan apakah perbedaan signifikan\n",
    "alpha = 0.05  # Ambil tingkat signifikansi yang diinginkan\n",
    "if p_value < alpha:\n",
    "    print(\"Perbedaan signifikan, tolak hipotesis nol\")\n",
    "else:\n",
    "    print(\"Tidak ada perbedaan signifikan, gagal tolak hipotesis nol\")"
   ]
  },
  {
   "cell_type": "markdown",
   "id": "16e3b147",
   "metadata": {},
   "source": [
    "# **Plot QQ**"
   ]
  },
  {
   "cell_type": "code",
   "execution_count": 76,
   "id": "69fb001c",
   "metadata": {},
   "outputs": [
    {
     "data": {
      "image/png": "[encoded data removed]",
      "text/plain": [
       "<Figure size 432x288 with 1 Axes>"
      ]
     },
     "metadata": {
      "needs_background": "light"
     },
     "output_type": "display_data"
    }
   ],
   "source": [
    "fig = sm.qqplot(residual, stats.t, fit=True, line=\"45\")\n",
    "plt.show()"
   ]
  },
  {
   "cell_type": "markdown",
   "id": "f7c5d34c",
   "metadata": {},
   "source": [
    "Titik titik dalam Plot Q-Q tersebut mendekati garis 45 derajat dan mengikuti pola garis tersebut dengan baik artinya residual cukup mendekati distribusi normal"
   ]
  },
  {
   "cell_type": "markdown",
   "id": "02b3cd89",
   "metadata": {},
   "source": [
    "# **Autokorelasi**"
   ]
  },
  {
   "cell_type": "code",
   "execution_count": 77,
   "id": "ca19904e",
   "metadata": {},
   "outputs": [
    {
     "data": {
      "image/png": "[encoded data removed]",
      "text/plain": [
       "<Figure size 432x288 with 1 Axes>"
      ]
     },
     "metadata": {
      "needs_background": "light"
     },
     "output_type": "display_data"
    }
   ],
   "source": [
    "#Plot memeriksa asumsi residual autokorelasi\n",
    "data_urutan=pd.Series(range(1,36))\n",
    "plt.scatter(data_urutan, residual);\n",
    "plt.axhline(0, color='red')\n",
    "plt.xlabel('data urutan');\n",
    "plt.ylabel('Residual');\n",
    "plt.xlim([1,36]);"
   ]
  },
  {
   "cell_type": "markdown",
   "id": "01bbe00d",
   "metadata": {},
   "source": [
    "Titik titik residual tersebar secara acak di sekitar garis merah tanpa pola yang jelas artinya bahwa tidak adanya autokorelasi yang signifikan dalam data residual tersebut"
   ]
  },
  {
   "cell_type": "markdown",
   "id": "33855507",
   "metadata": {},
   "source": [
    "# **Heteroskedastisitas**"
   ]
  },
  {
   "cell_type": "code",
   "execution_count": 78,
   "id": "cc518ad9",
   "metadata": {},
   "outputs": [
    {
     "data": {
      "image/png": "[encoded data removed]",
      "text/plain": [
       "<Figure size 432x288 with 1 Axes>"
      ]
     },
     "metadata": {
      "needs_background": "light"
     },
     "output_type": "display_data"
    }
   ],
   "source": [
    "#Plot memeriksa asumsi residual heteroskedastisitas\n",
    "influence = model.get_influence()\n",
    "\n",
    "#menentukan standard residualnya\n",
    "std_residual = influence.resid_studentized_internal\n",
    "plt.scatter(prediksi, std_residual);\n",
    "plt.axhline(0, color='red')\n",
    "plt.xlabel('prediksi');\n",
    "plt.ylabel('standardized residual');\n",
    "plt.xlim([500,610]);\n",
    "plt.show()"
   ]
  },
  {
   "cell_type": "markdown",
   "id": "c1c3779c",
   "metadata": {},
   "source": [
    "Titik titik residual tersebar secara acak di sekitar garis merah tanpa pola yang jelas artinya bahwa tidak adanya heteroskedastisitas yang signifikan dalam data residual tersebut"
   ]
  },
  {
   "cell_type": "markdown",
   "id": "12ce94c0",
   "metadata": {},
   "source": [
    "# **Uji Jarque-Bera**"
   ]
  },
  {
   "cell_type": "code",
   "execution_count": 79,
   "id": "0a3139e4",
   "metadata": {},
   "outputs": [
    {
     "data": {
      "text/plain": [
       "[('Jarque-Bera', 1.1084234888483664),\n",
       " ('Chi^2 two-tail prob.', 0.5745249552531131),\n",
       " ('Skew', 0.3765341006018151),\n",
       " ('Kurtosis', 2.560739137572532)]"
      ]
     },
     "execution_count": 79,
     "metadata": {},
     "output_type": "execute_result"
    }
   ],
   "source": [
    "#Pengujian JarqueBera untuk memeriksa asumsi residual\n",
    "\n",
    "from statsmodels.compat import lzip\n",
    "import statsmodels.formula.api as smf\n",
    "import statsmodels.stats.api as sms\n",
    "\n",
    "name = [\"Jarque-Bera\", \"Chi^2 two-tail prob.\", \"Skew\", \"Kurtosis\"]\n",
    "test = sms.jarque_bera(model.resid)\n",
    "lzip(name, test)"
   ]
  },
  {
   "cell_type": "markdown",
   "id": "476eb6e6",
   "metadata": {},
   "source": [
    "# **Uji Durbin-Watson**"
   ]
  },
  {
   "cell_type": "code",
   "execution_count": 80,
   "id": "edbaa3c7",
   "metadata": {},
   "outputs": [
    {
     "name": "stdout",
     "output_type": "stream",
     "text": [
      "Durbin-Watson: 1.4684302824383635\n"
     ]
    }
   ],
   "source": [
    "#Pengujian Durbin-Watson\n",
    "\n",
    "from statsmodels.stats.stattools import durbin_watson\n",
    "\n",
    "dw = durbin_watson(model.resid)\n",
    "print(f\"Durbin-Watson: {dw}\")"
   ]
  },
  {
   "cell_type": "markdown",
   "id": "b9753e78",
   "metadata": {},
   "source": [
    "# **Uji Breush-Pagan**"
   ]
  },
  {
   "cell_type": "code",
   "execution_count": 81,
   "id": "edf07773",
   "metadata": {},
   "outputs": [
    {
     "data": {
      "text/plain": [
       "[('Lagrange multiplier statistic', 0.254209734538382),\n",
       " ('p-value', 0.6141263489657269),\n",
       " ('f-value', 0.2414370539761613),\n",
       " ('f p-value', 0.626422416599357)]"
      ]
     },
     "execution_count": 81,
     "metadata": {},
     "output_type": "execute_result"
    }
   ],
   "source": [
    "#Pengujian Breush-Pagan\n",
    "\n",
    "names = ['Lagrange multiplier statistic', 'p-value','f-value', 'f p-value']\n",
    "test = sms.het_breuschpagan(model.resid, model.model.exog)\n",
    "lzip(names, test)"
   ]
  },
  {
   "cell_type": "markdown",
   "id": "b522077d",
   "metadata": {},
   "source": [
    "# **Kesimpulan**"
   ]
  },
  {
   "cell_type": "markdown",
   "id": "634cc7b8",
   "metadata": {},
   "source": [
    "Uji F dan T signifikan, dan R-squared tinggi, ini menunjukkan bahwa model regresi secara keseluruhan baik dan variabel independen memiliki pengaruh signifikan pada variabel dependen. Data tersebut tidak menyebabkan terjadinya autokorelasi atau heteroskedastisitas dalam residu, hal ini mengindikasikan bahwa model regresi yang digunakan cocok dengan data dengan baik, dan hasil analisis regresi dapat dianggap lebih dapat diandalkan."
   ]
  }
 ],
 "metadata": {
  "kernelspec": {
   "display_name": "Python 3 (ipykernel)",
   "language": "python",
   "name": "python3"
  },
  "language_info": {
   "codemirror_mode": {
    "name": "ipython",
    "version": 3
   },
   "file_extension": ".py",
   "mimetype": "text/x-python",
   "name": "python",
   "nbconvert_exporter": "python",
   "pygments_lexer": "ipython3",
   "version": "3.11.5"
  }
 },
 "nbformat": 4,
 "nbformat_minor": 5
}
